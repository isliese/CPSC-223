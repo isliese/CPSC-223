{
 "cells": [
  {
   "cell_type": "markdown",
   "metadata": {},
   "source": [
    "### Lambda Functions\n",
    "### List Comprehension\n",
    "### Dictionary Comprehension\n",
    "### Keyword Arguments/ Positional Arguments"
   ]
  },
  {
   "cell_type": "code",
   "execution_count": 4,
   "metadata": {},
   "outputs": [
    {
     "name": "stdout",
     "output_type": "stream",
     "text": [
      "8\n",
      "[('Bob', 75), ('David', 80), ('Alice', 85), ('Charlie', 90)]\n",
      "[2, 4, 6, 8, 10]\n",
      "[1, 2, 3, 4, 5]\n",
      "Pass\n",
      "Fail\n",
      "120\n"
     ]
    }
   ],
   "source": [
    "# lambda arguments: expression\n",
    "\n",
    "add = lambda x, y: x + y\n",
    "result = add(5, 3)\n",
    "print(result)  # Output: 8\n",
    "\n",
    "\n",
    "# _---------------\n",
    "def mulitple(n):\n",
    "    return lambda x: x * n\n",
    "\n",
    "\n",
    "multiple_2 = mulitple(2)\n",
    "mulitple_3 = mulitple(3)\n",
    "\n",
    "print(multiple_2(10))\n",
    "print(mulitple_3(10))\n",
    "\n",
    "# _---------------\n",
    "\n",
    "\n",
    "students = [(\"Alice\", 85), (\"Bob\", 75), (\"Charlie\", 90), (\"David\", 80)]\n",
    "# Sort by the second element (marks) in each tuple\n",
    "sorted_students = sorted(students, key=lambda student: student[1])\n",
    "print(sorted_students)\n",
    "\n",
    "\n",
    "#Filter\n",
    "numbers = [1, 2, 3, 4, 5, 6, 7, 8, 9, 10]\n",
    "# Filter even numbers\n",
    "even_numbers = list(filter(lambda x: x % 2 == 0, numbers))\n",
    "print(even_numbers)\n",
    "\n",
    "\n",
    "# MAP\n",
    "numbers = [1, 2, 3, 4, 5]\n",
    "\n",
    "# Square each number\n",
    "squared_numbers = list(map(lambda x: x ** 2, numbers))\n",
    "print(squared_numbers)\n",
    "\n",
    "\n",
    "\n",
    "grade = lambda marks: 'Pass' if marks >= 50 else 'Fail'\n",
    "print(grade(85))  # Output: Pass\n",
    "print(grade(45))  # Output: Fail\n"
   ]
  },
  {
   "cell_type": "code",
   "execution_count": 5,
   "metadata": {},
   "outputs": [
    {
     "name": "stdout",
     "output_type": "stream",
     "text": [
      "[1, 4, 9, 16, 25, 36, 49, 64, 81, 100]\n",
      "[2, 4, 6, 8, 10, 12, 14, 16, 18, 20]\n",
      "[[1, 2, 3], [2, 4, 6], [3, 6, 9]]\n",
      "['HELLO', 'WORLD', 'PYTHON']\n",
      "[1, 2, 3, 4, 5, 6, 7, 8]\n"
     ]
    }
   ],
   "source": [
    "# List Comprehension\n",
    "# [expression for item in iterable if condition]\n",
    "\n",
    "\n",
    "# Create a list of squares for numbers from 1 to 10.\n",
    "squares = [x ** 2 for x in range(1, 11)]\n",
    "print(squares)  # Output: [1, 4, 9, 16, 25, 36, 49, 64, 81, 100]\n",
    "\n",
    "# Create a list of even numbers from 1 to 20.\n",
    "evens = [x for x in range(1, 21) if x % 2 == 0]\n",
    "print(evens)  # Output: [2, 4, 6, 8, 10, 12, 14, 16, 18, 20]\n",
    "\n",
    "# Create a 3x3 multiplication table.\n",
    "table = [[i * j for j in range(1, 4)] for i in range(1, 4)]\n",
    "print(table)  # Output: [[1, 2, 3], [2, 4, 6], [3, 6, 9]]\n",
    "\n",
    "# Convert a list of strings to uppercase.\n",
    "words = ['hello', 'world', 'python']\n",
    "uppercase_words = [word.upper() for word in words]\n",
    "print(uppercase_words)  # Output: ['HELLO', 'WORLD', 'PYTHON']\n",
    "\n",
    "# Flatten a list of lists into a single list.\n",
    "nested_list = [[1, 2, 3], [4, 5], [6, 7, 8]]\n",
    "flattened = [num for sublist in nested_list for num in sublist]\n",
    "print(flattened)  # Output: [1, 2, 3, 4, 5, 6, 7, 8]\n",
    "\n"
   ]
  },
  {
   "cell_type": "code",
   "execution_count": 6,
   "metadata": {},
   "outputs": [
    {
     "name": "stdout",
     "output_type": "stream",
     "text": [
      "{1: 1, 2: 4, 3: 9, 4: 16, 5: 25}\n",
      "{2: 4, 4: 16, 6: 36, 8: 64, 10: 100}\n",
      "{1: 'a', 2: 'b', 3: 'c'}\n",
      "{1: 'odd', 2: 'even', 3: 'odd', 4: 'even', 5: 'odd'}\n",
      "{'apple': 5, 'banana': 6, 'cherry': 6}\n"
     ]
    }
   ],
   "source": [
    "# Dictionary Comprehension\n",
    "# {key_expression: value_expression for item in iterable if condition}\n",
    "\n",
    "\n",
    "# Create a dictionary that maps numbers to their squares for numbers 1 to 5.\n",
    "squares_dict = {x: x ** 2 for x in range(1, 6)}\n",
    "print(squares_dict)  # Output: {1: 1, 2: 4, 3: 9, 4: 16, 5: 25}\n",
    "\n",
    "# Create a dictionary that maps numbers to their squares, but only for even numbers between 1 and 10.\n",
    "even_squares_dict = {x: x ** 2 for x in range(1, 11) if x % 2 == 0}\n",
    "print(even_squares_dict)  # Output: {2: 4, 4: 16, 6: 36, 8: 64, 10: 100}\n",
    "\n",
    "\n",
    "# Swap keys and values in an existing dictionary.\n",
    "original_dict = {'a': 1, 'b': 2, 'c': 3}\n",
    "reversed_dict = {value: key for key, value in original_dict.items()}\n",
    "print(reversed_dict)  # Output: {1: 'a', 2: 'b', 3: 'c'}\n",
    "\n",
    "\n",
    "# Create a dictionary where keys are numbers from 1 to 5 and values are “even” or “odd” based on the number’s parity.\n",
    "parity_dict = {x: ('even' if x % 2 == 0 else 'odd') for x in range(1, 6)}\n",
    "print(parity_dict)  # Output: {1: 'odd', 2: 'even', 3: 'odd', 4: 'even', 5: 'odd'}\n",
    "\n",
    "\n",
    "# Create a dictionary that maps each word in a list to its length.\n",
    "words = ['apple', 'banana', 'cherry']\n",
    "length_dict = {word: len(word) for word in words}\n",
    "print(length_dict)  # Output: {'apple': 5, 'banana': 6, 'cherry': 6}\n"
   ]
  },
  {
   "cell_type": "code",
   "execution_count": 7,
   "metadata": {},
   "outputs": [
    {
     "name": "stdout",
     "output_type": "stream",
     "text": [
      "Hello, my name is Alice and I am 25 years old.\n"
     ]
    }
   ],
   "source": [
    "# Positional Arguments\n",
    "\n",
    "def greet(name, age):\n",
    "    print(f\"Hello, my name is {name} and I am {age} years old.\")\n",
    "\n",
    "# Calling the function\n",
    "greet('Alice', 25)"
   ]
  },
  {
   "cell_type": "code",
   "execution_count": 8,
   "metadata": {},
   "outputs": [
    {
     "name": "stdout",
     "output_type": "stream",
     "text": [
      "Hello, my name is Bob and I am 30 years old.\n",
      "Hello, my name is Charlie and I am 22 years old.\n"
     ]
    }
   ],
   "source": [
    "# Default Arguments\n",
    "\n",
    "def greet(name, age=30):\n",
    "    print(f\"Hello, my name is {name} and I am {age} years old.\")\n",
    "\n",
    "# Calling the function with and without the age parameter\n",
    "greet('Bob')\n",
    "\n",
    "greet('Charlie', 22)\n"
   ]
  },
  {
   "cell_type": "code",
   "execution_count": 40,
   "metadata": {},
   "outputs": [
    {
     "name": "stdout",
     "output_type": "stream",
     "text": [
      "Sum: 6\n",
      "Sum: 30\n"
     ]
    }
   ],
   "source": [
    "#  *args (Variable-Length Positional Arguments)\n",
    "# *args allows a function to accept an arbitrary number of positional arguments. It collects all extra arguments into a tuple.\n",
    "\n",
    "def add_numbers(*args):\n",
    "    \n",
    "   \n",
    "\n",
    "    total = 0\n",
    "    for num in args:\n",
    "        total += num\n",
    "    print(f\"Sum: {total}\")\n",
    "\n",
    "# Calling the function with a varying number of arguments\n",
    "add_numbers(1, 2, 3)       # Output: Sum: 6\n",
    "add_numbers(4, 5, 6, 7, 8) # Output: Sum: 30"
   ]
  },
  {
   "cell_type": "code",
   "execution_count": 43,
   "metadata": {},
   "outputs": [
    {
     "name": "stdout",
     "output_type": "stream",
     "text": [
      "kwargs:  {'name': 'Alice', 'age': 20, 'grade': 'A'}\n",
      "name: Alice\n",
      "age: 20\n",
      "grade: A\n"
     ]
    }
   ],
   "source": [
    "# **kwargs (Variable-Length Keyword Arguments)\n",
    "# **kwargs allows a function to accept an arbitrary number of keyword arguments. It collects them into a dictionary.\n",
    "\n",
    "def print_student_info(**kwargs):\n",
    "    print(\"kwargs: \", kwargs)\n",
    "    for key, value in kwargs.items():\n",
    "        print(f\"{key}: {value}\")\n",
    "\n",
    "\n",
    "# Calling the function with varying keyword arguments\n",
    "print_student_info(name='Alice', age=20, grade='A')\n",
    "print_student_info(name='Bob', major='Computer Science', gpa=3.9)"
   ]
  },
  {
   "cell_type": "code",
   "execution_count": 1,
   "metadata": {},
   "outputs": [
    {
     "name": "stdout",
     "output_type": "stream",
     "text": [
      "Positional arguments: (1, 2, 3)\n",
      "Keyword arguments: {'name': 'Alice', 'age': 25}\n"
     ]
    }
   ],
   "source": [
    "# Combining *args and **kwargs\n",
    "# You can use both *args and **kwargs in a function to accept both positional and keyword arguments.\n",
    "\n",
    "def display_info(*args, **kwargs):\n",
    "    print(\"Positional arguments:\", args)\n",
    "    print(\"Keyword arguments:\", kwargs)\n",
    "\n",
    "# Calling the function with both types of arguments\n",
    "display_info( 1, 2, 3, name='Alice', age=25)"
   ]
  },
  {
   "cell_type": "code",
   "execution_count": 12,
   "metadata": {},
   "outputs": [
    {
     "name": "stdout",
     "output_type": "stream",
     "text": [
      "My name is Alice, I am 25 years old, and I live in New York.\n",
      "My name is Bob, I am 30 years old, and I live in Los Angeles.\n"
     ]
    }
   ],
   "source": [
    "# Using * and ** to Unpack Arguments in Function Calls\n",
    "# You can also use * and ** to unpack arguments when calling a function.\n",
    "\n",
    "def introduce(name, age, city):\n",
    "    print(f\"My name is {name}, I am {age} years old, and I live in {city}.\")\n",
    "\n",
    "# Using a list with *\n",
    "args_list = ['Alice', 25, 'New York']\n",
    "introduce(*args_list)\n",
    "\n",
    "# Using a dictionary with **\n",
    "args_dict = {'name': 'Bob', 'age': 30, 'city': 'Los Angeles'}\n",
    "introduce(**args_dict)"
   ]
  },
  {
   "cell_type": "code",
   "execution_count": 9,
   "metadata": {},
   "outputs": [
    {
     "name": "stdout",
     "output_type": "stream",
     "text": [
      "['263547898', '657897234', '32785678', '12345678']\n"
     ]
    }
   ],
   "source": [
    "contacts = {\n",
    "\n",
    "    '12345678' : [\"First\", \"Last\"],\n",
    "    '32785678' : [\"Sam\", \"Altman\"],\n",
    "    '657897234' : [\"Steve\", \"Jobs\"],\n",
    "    '263547898' : [\"tushar\", \"yadav\"],\n",
    "\n",
    "}\n",
    "\n",
    "x = sorted(contacts, key = lambda x : [x[1], x[0]], reverse = True)\n",
    "print(x)\n"
   ]
  },
  {
   "cell_type": "code",
   "execution_count": 13,
   "metadata": {},
   "outputs": [
    {
     "name": "stdout",
     "output_type": "stream",
     "text": [
      "{'12345678': ['First', 'Last'], '32785678': ['Sam', 'Altman'], '657897234': ['Steve', 'Jobs'], '263547898': ['tushar', 'yadav']}\n"
     ]
    }
   ],
   "source": [
    "c = {\n",
    "\n",
    "    '12345678' : [\"First\", \"Last\"],\n",
    "    '32785678' : [\"Sam\", \"Altman\"],\n",
    "    '657897234' : [\"Steve\", \"Jobs\"],\n",
    "    '263547898' : [\"tushar\", \"yadav\"],\n",
    "\n",
    "}\n",
    "\n",
    "# Sort the dictionary in ascending order by last name, and then by first name, ignoring case.\n",
    "\n",
    "for c in\n",
    "\n",
    "\n",
    "\n",
    "l = []\n",
    "\n",
    "for key in c:\n",
    "    l.append([key, c[key][0].upper(), c[key][1].upper(), c[key][0], c[key][1]])\n",
    "\n",
    "s = sorted(l, key = lambda x: (x[1], x[2]))\n",
    "d = {}\n",
    "\n",
    "for item in s:\n",
    "    id = item[0]\n",
    "    fn = item[3]\n",
    "    ln = item[4]\n",
    "    d[id] = [fn, ln]\n",
    "\n",
    "print(d)"
   ]
  },
  {
   "cell_type": "code",
   "execution_count": null,
   "metadata": {},
   "outputs": [],
   "source": []
  },
  {
   "cell_type": "code",
   "execution_count": 17,
   "metadata": {},
   "outputs": [
    {
     "name": "stdout",
     "output_type": "stream",
     "text": [
      "124\n"
     ]
    }
   ],
   "source": [
    "s = \"djakfgsdkjfh\"\n",
    "\n",
    "if \"dj\" in s:\n",
    "    print(124)\n",
    "else:\n",
    "    print(456)"
   ]
  },
  {
   "cell_type": "code",
   "execution_count": 19,
   "metadata": {},
   "outputs": [
    {
     "name": "stdout",
     "output_type": "stream",
     "text": [
      "Found\n"
     ]
    }
   ],
   "source": [
    "li = [123, 456, 765, 863, 329856]\n",
    "\n",
    "search_number = 863\n",
    "\n",
    "\n",
    "\n",
    "# for value in li:\n",
    "\n",
    "#     if search_number == value:\n",
    "\n",
    "#         print('Found')\n",
    "\n",
    "#     else:\n",
    "#         print('sdjkfgsdkjf')\n",
    "\n",
    "\n",
    "\n",
    "if search_number in li:\n",
    "    print('Found')\n",
    "\n",
    "\n"
   ]
  },
  {
   "cell_type": "code",
   "execution_count": 33,
   "metadata": {},
   "outputs": [
    {
     "name": "stdout",
     "output_type": "stream",
     "text": [
      "12345678 [1, 8]\n",
      "32785678 [4, 8]\n",
      "657897234 [3, 6]\n",
      "263547898 [4, 5]\n",
      "=============================\n",
      "263547898 [4, 5]\n",
      "657897234 [3, 6]\n",
      "12345678 [1, 8]\n",
      "32785678 [4, 8]\n"
     ]
    }
   ],
   "source": [
    "# Lab 4 sort test Code\n",
    "\n",
    "# c = {\n",
    "\n",
    "#     '12345678' : [\"First\", \"Last\"],\n",
    "#     '32785678' : [\"First\", \"Altman\"],\n",
    "#     '657897234' : [\"Steve\", \"Jobs\"],\n",
    "#     '263547898' : [\"tushar\", \"Jobs\"],\n",
    "\n",
    "# }\n",
    "\n",
    "c = {\n",
    "\n",
    "    '12345678' : [1, 8],\n",
    "    '32785678' : [4, 8],\n",
    "    '657897234' : [3, 6],\n",
    "    '263547898' : [4, 5],\n",
    "\n",
    "}\n",
    "\n",
    "\n",
    "# Sort the dictionary in ascending order by last name, and then by first name, ignoring case.\n",
    "\n",
    "li_temp = []\n",
    "\n",
    "# contacts = [ (fi, nam) ]\n",
    "for key, values in c.items():\n",
    "    print(key, values)\n",
    "    li_temp.append([key, values[0], values[1]])\n",
    "\n",
    "# print(\"before: \",li_temp)\n",
    "\n",
    "li_temp.sort(key= lambda x: [ x[2], x[1]])\n",
    "\n",
    "new_Contacs = {}\n",
    "\n",
    "for values in li_temp:\n",
    "    new_Contacs[values[0]] = [values[1], values[2]]\n",
    "\n",
    "\n",
    "print(\"=============================\")\n",
    "\n",
    "for key, values in new_Contacs.items():\n",
    "    print(key, values)\n"
   ]
  },
  {
   "cell_type": "markdown",
   "metadata": {},
   "source": []
  }
 ],
 "metadata": {
  "kernelspec": {
   "display_name": "Python 3",
   "language": "python",
   "name": "python3"
  },
  "language_info": {
   "codemirror_mode": {
    "name": "ipython",
    "version": 3
   },
   "file_extension": ".py",
   "mimetype": "text/x-python",
   "name": "python",
   "nbconvert_exporter": "python",
   "pygments_lexer": "ipython3",
   "version": "3.12.2"
  }
 },
 "nbformat": 4,
 "nbformat_minor": 2
}
